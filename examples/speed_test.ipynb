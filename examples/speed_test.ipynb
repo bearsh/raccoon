{
 "cells": [
  {
   "cell_type": "markdown",
   "metadata": {},
   "source": [
    "Raccoon vs. Pandas speed test\n",
    "============================="
   ]
  },
  {
   "cell_type": "markdown",
   "metadata": {},
   "source": [
    "Setup pythonpath, import libraries and initialized DataFrame to store results"
   ]
  },
  {
   "cell_type": "code",
   "execution_count": 16,
   "metadata": {},
   "outputs": [],
   "source": [
    "# Use this statement to import the current development version\n",
    "import sys; sys.path.insert(0, '../')"
   ]
  },
  {
   "cell_type": "code",
   "execution_count": 17,
   "metadata": {},
   "outputs": [],
   "source": [
    "from copy import deepcopy"
   ]
  },
  {
   "cell_type": "code",
   "execution_count": 18,
   "metadata": {},
   "outputs": [],
   "source": [
    "import raccoon as rc\n",
    "import pandas as pd"
   ]
  },
  {
   "cell_type": "markdown",
   "metadata": {},
   "source": [
    "Machine information\n",
    "--------"
   ]
  },
  {
   "cell_type": "code",
   "execution_count": 21,
   "metadata": {},
   "outputs": [
    {
     "name": "stdout",
     "output_type": "stream",
     "text": [
      "AMD64\n",
      "Intel64 Family 6 Model 142 Stepping 10, GenuineIntel\n",
      "Windows-10-10.0.18362-SP0\n",
      "python  3.7.4\n"
     ]
    }
   ],
   "source": [
    "import platform\n",
    "print(platform.machine())\n",
    "print(platform.processor())\n",
    "print(platform.platform())\n",
    "print(\"python \", platform.python_version())"
   ]
  },
  {
   "cell_type": "markdown",
   "metadata": {},
   "source": [
    "Run the Speed Test\n",
    "----"
   ]
  },
  {
   "cell_type": "code",
   "execution_count": 22,
   "metadata": {},
   "outputs": [],
   "source": [
    "results = rc.DataFrame(columns=['raccoon', 'pandas', 'ratio'], sort=False)"
   ]
  },
  {
   "cell_type": "code",
   "execution_count": 23,
   "metadata": {},
   "outputs": [],
   "source": [
    "def add_results(index):\n",
    "    results[index, 'raccoon'] = res_rc.best\n",
    "    results[index, 'pandas'] = res_pd.best\n",
    "    results[index, 'ratio'] = res_rc.best / res_pd.best"
   ]
  },
  {
   "cell_type": "code",
   "execution_count": 24,
   "metadata": {},
   "outputs": [
    {
     "name": "stdout",
     "output_type": "stream",
     "text": [
      "index    raccoon    pandas    ratio\n",
      "-------  ---------  --------  -------\n",
      "version  3.0.0      0.25.2\n"
     ]
    }
   ],
   "source": [
    "results['version', 'raccoon'] = rc.__version__\n",
    "results['version', 'pandas'] = pd.__version__\n",
    "print(results)"
   ]
  },
  {
   "cell_type": "markdown",
   "metadata": {},
   "source": [
    "Initialize 10,000 empty DataFrames\n",
    "---------------------------"
   ]
  },
  {
   "cell_type": "code",
   "execution_count": 25,
   "metadata": {},
   "outputs": [],
   "source": [
    "def init_rc():\n",
    "    for x in range(10000):\n",
    "        df = rc.DataFrame()\n",
    "        \n",
    "def init_pd():\n",
    "    for x in range(10000):\n",
    "        df = pd.DataFrame()"
   ]
  },
  {
   "cell_type": "code",
   "execution_count": 26,
   "metadata": {},
   "outputs": [
    {
     "name": "stdout",
     "output_type": "stream",
     "text": [
      "89.5 ms ± 6.59 ms per loop (mean ± std. dev. of 7 runs, 10 loops each)\n"
     ]
    }
   ],
   "source": [
    "res_rc = %timeit -o init_rc()"
   ]
  },
  {
   "cell_type": "code",
   "execution_count": 27,
   "metadata": {},
   "outputs": [
    {
     "name": "stdout",
     "output_type": "stream",
     "text": [
      "4.34 s ± 87.3 ms per loop (mean ± std. dev. of 7 runs, 1 loop each)\n"
     ]
    }
   ],
   "source": [
    "res_pd = %timeit -o init_pd()"
   ]
  },
  {
   "cell_type": "code",
   "execution_count": 28,
   "metadata": {},
   "outputs": [],
   "source": [
    "add_results('initialize empty')"
   ]
  },
  {
   "cell_type": "code",
   "execution_count": 29,
   "metadata": {},
   "outputs": [
    {
     "name": "stdout",
     "output_type": "stream",
     "text": [
      "index             raccoon              pandas                 ratio\n",
      "----------------  -------------------  -----------------  ---------\n",
      "version           3.0.0                0.25.2\n",
      "initialize empty  0.08051184000000262  4.216560099999981  0.0190942\n"
     ]
    }
   ],
   "source": [
    "results.print()"
   ]
  },
  {
   "cell_type": "markdown",
   "metadata": {},
   "source": [
    "Initialize 100 row X 100 col DataFrame()\n",
    "--------"
   ]
  },
  {
   "cell_type": "code",
   "execution_count": 30,
   "metadata": {},
   "outputs": [],
   "source": [
    "data = dict()\n",
    "for x in range(100):\n",
    "    data['a' + str(x)] = list(range(100))"
   ]
  },
  {
   "cell_type": "code",
   "execution_count": 31,
   "metadata": {},
   "outputs": [
    {
     "name": "stdout",
     "output_type": "stream",
     "text": [
      "117 µs ± 6.99 µs per loop (mean ± std. dev. of 7 runs, 10000 loops each)\n"
     ]
    }
   ],
   "source": [
    "res_rc = %timeit -o df=rc.DataFrame(data=data, sort=False)"
   ]
  },
  {
   "cell_type": "code",
   "execution_count": 32,
   "metadata": {},
   "outputs": [
    {
     "name": "stdout",
     "output_type": "stream",
     "text": [
      "16 ms ± 704 µs per loop (mean ± std. dev. of 7 runs, 100 loops each)\n"
     ]
    }
   ],
   "source": [
    "res_pd = %timeit -o df=pd.DataFrame(data=data)"
   ]
  },
  {
   "cell_type": "code",
   "execution_count": 33,
   "metadata": {},
   "outputs": [],
   "source": [
    "add_results('initialize with matrix')"
   ]
  },
  {
   "cell_type": "code",
   "execution_count": 34,
   "metadata": {},
   "outputs": [
    {
     "name": "stdout",
     "output_type": "stream",
     "text": [
      "index                   raccoon                 pandas                     ratio\n",
      "----------------------  ----------------------  --------------------  ----------\n",
      "version                 3.0.0                   0.25.2\n",
      "initialize empty        0.08051184000000262     4.216560099999981     0.0190942\n",
      "initialize with matrix  0.00011038290999999845  0.015230743999999276  0.00724737\n"
     ]
    }
   ],
   "source": [
    "results.print()"
   ]
  },
  {
   "cell_type": "markdown",
   "metadata": {},
   "source": [
    "Add 10,000 items in 1 column to empty DataFrame\n",
    "-------------"
   ]
  },
  {
   "cell_type": "code",
   "execution_count": 35,
   "metadata": {},
   "outputs": [],
   "source": [
    "def one_col_add_rc():\n",
    "    df = rc.DataFrame()\n",
    "    for x in range(10000):\n",
    "        df.set(x, 'a', x)\n",
    "        \n",
    "def one_col_add_pd():\n",
    "    df = pd.DataFrame()\n",
    "    for x in range(10000):\n",
    "        df.at[x, 'a'] = x"
   ]
  },
  {
   "cell_type": "code",
   "execution_count": 36,
   "metadata": {},
   "outputs": [
    {
     "name": "stdout",
     "output_type": "stream",
     "text": [
      "53.3 ms ± 877 µs per loop (mean ± std. dev. of 7 runs, 10 loops each)\n"
     ]
    }
   ],
   "source": [
    "res_rc = %timeit -o one_col_add_rc()"
   ]
  },
  {
   "cell_type": "code",
   "execution_count": 37,
   "metadata": {},
   "outputs": [
    {
     "name": "stdout",
     "output_type": "stream",
     "text": [
      "17 s ± 221 ms per loop (mean ± std. dev. of 7 runs, 1 loop each)\n"
     ]
    }
   ],
   "source": [
    "res_pd = %timeit -o one_col_add_pd()"
   ]
  },
  {
   "cell_type": "code",
   "execution_count": 38,
   "metadata": {},
   "outputs": [],
   "source": [
    "add_results('add rows one column')"
   ]
  },
  {
   "cell_type": "code",
   "execution_count": 39,
   "metadata": {},
   "outputs": [
    {
     "name": "stdout",
     "output_type": "stream",
     "text": [
      "index                   raccoon                 pandas                     ratio\n",
      "----------------------  ----------------------  --------------------  ----------\n",
      "version                 3.0.0                   0.25.2\n",
      "initialize empty        0.08051184000000262     4.216560099999981     0.0190942\n",
      "initialize with matrix  0.00011038290999999845  0.015230743999999276  0.00724737\n",
      "add rows one column     0.05175027999999884     16.65805690000002     0.00310662\n"
     ]
    }
   ],
   "source": [
    "print(results)"
   ]
  },
  {
   "cell_type": "markdown",
   "metadata": {},
   "source": [
    "Add 100 rows of 100 columns to empty DataFrame\n",
    "----------"
   ]
  },
  {
   "cell_type": "code",
   "execution_count": 40,
   "metadata": {},
   "outputs": [],
   "source": [
    "new_row = {('a' + str(x)): x for x in range(100)}\n",
    "columns = ['a' + str(x) for x in range(100)]\n",
    "\n",
    "def matrix_add_rc():\n",
    "    df = rc.DataFrame(columns=columns)\n",
    "    for x in range(100):\n",
    "        df.set(indexes=x, values=new_row)\n",
    "\n",
    "def matrix_add_pd():\n",
    "    df = pd.DataFrame(columns=columns)\n",
    "    for x in range(100):\n",
    "        df.loc[x] = new_row"
   ]
  },
  {
   "cell_type": "code",
   "execution_count": 41,
   "metadata": {},
   "outputs": [
    {
     "name": "stdout",
     "output_type": "stream",
     "text": [
      "10.1 ms ± 1.03 ms per loop (mean ± std. dev. of 7 runs, 100 loops each)\n"
     ]
    }
   ],
   "source": [
    "res_rc = %timeit -o matrix_add_rc()"
   ]
  },
  {
   "cell_type": "code",
   "execution_count": 42,
   "metadata": {},
   "outputs": [
    {
     "name": "stdout",
     "output_type": "stream",
     "text": [
      "315 ms ± 22 ms per loop (mean ± std. dev. of 7 runs, 1 loop each)\n"
     ]
    }
   ],
   "source": [
    "res_pd = %timeit -o matrix_add_pd()"
   ]
  },
  {
   "cell_type": "code",
   "execution_count": 43,
   "metadata": {},
   "outputs": [],
   "source": [
    "add_results('add matrix')"
   ]
  },
  {
   "cell_type": "code",
   "execution_count": 44,
   "metadata": {},
   "outputs": [
    {
     "name": "stdout",
     "output_type": "stream",
     "text": [
      "index                   raccoon                 pandas                     ratio\n",
      "----------------------  ----------------------  --------------------  ----------\n",
      "version                 3.0.0                   0.25.2\n",
      "initialize empty        0.08051184000000262     4.216560099999981     0.0190942\n",
      "initialize with matrix  0.00011038290999999845  0.015230743999999276  0.00724737\n",
      "add rows one column     0.05175027999999884     16.65805690000002     0.00310662\n",
      "add matrix              0.009487011999999595    0.29534590000002936   0.0321217\n"
     ]
    }
   ],
   "source": [
    "print(results)"
   ]
  },
  {
   "cell_type": "markdown",
   "metadata": {},
   "source": [
    "Append 10x10 DataFrame 1000 times\n",
    "------"
   ]
  },
  {
   "cell_type": "code",
   "execution_count": 45,
   "metadata": {},
   "outputs": [],
   "source": [
    "def append_rc():\n",
    "    grid = {'a' + str(x): [0, 1, 2, 3, 4, 5, 6, 7, 8, 9] for x in range(10)}\n",
    "    df = rc.DataFrame(data=deepcopy(grid), columns=list(grid.keys()))\n",
    "    for x in range(100):\n",
    "        index = [(y + 1) + (x + 1) * 10 for y in range(10)]\n",
    "        new_grid = deepcopy(grid)\n",
    "        new_df = rc.DataFrame(data=new_grid, columns=list(new_grid.keys()), index=index)\n",
    "        df.append(new_df)\n",
    "\n",
    "def append_pd():\n",
    "    grid = {'a' + str(x): [0, 1, 2, 3, 4, 5, 6, 7, 8, 9] for x in range(10)}\n",
    "    df = pd.DataFrame(data=grid, columns=list(grid.keys()))\n",
    "    for x in range(100):\n",
    "        index = [(y + 1) + (x + 1) * 10 for y in range(10)]\n",
    "        new_grid = deepcopy(grid)\n",
    "        new_df = pd.DataFrame(data=new_grid, columns=list(new_grid.keys()), index=index)\n",
    "        df = df.append(new_df)"
   ]
  },
  {
   "cell_type": "code",
   "execution_count": 46,
   "metadata": {},
   "outputs": [
    {
     "name": "stdout",
     "output_type": "stream",
     "text": [
      "77.4 ms ± 1.59 ms per loop (mean ± std. dev. of 7 runs, 10 loops each)\n"
     ]
    }
   ],
   "source": [
    "res_rc = %timeit -o append_rc()"
   ]
  },
  {
   "cell_type": "code",
   "execution_count": 47,
   "metadata": {},
   "outputs": [
    {
     "name": "stdout",
     "output_type": "stream",
     "text": [
      "368 ms ± 12.7 ms per loop (mean ± std. dev. of 7 runs, 1 loop each)\n"
     ]
    }
   ],
   "source": [
    "res_pd = %timeit -o append_pd()"
   ]
  },
  {
   "cell_type": "code",
   "execution_count": 48,
   "metadata": {},
   "outputs": [],
   "source": [
    "add_results('append')"
   ]
  },
  {
   "cell_type": "code",
   "execution_count": 49,
   "metadata": {},
   "outputs": [
    {
     "name": "stdout",
     "output_type": "stream",
     "text": [
      "index                   raccoon                 pandas                     ratio\n",
      "----------------------  ----------------------  --------------------  ----------\n",
      "version                 3.0.0                   0.25.2\n",
      "initialize empty        0.08051184000000262     4.216560099999981     0.0190942\n",
      "initialize with matrix  0.00011038290999999845  0.015230743999999276  0.00724737\n",
      "add rows one column     0.05175027999999884     16.65805690000002     0.00310662\n",
      "add matrix              0.009487011999999595    0.29534590000002936   0.0321217\n",
      "append                  0.07532331999999542     0.35071719999996276   0.214769\n"
     ]
    }
   ],
   "source": [
    "print(results)"
   ]
  },
  {
   "cell_type": "markdown",
   "metadata": {},
   "source": [
    "Get\n",
    "---"
   ]
  },
  {
   "cell_type": "code",
   "execution_count": 50,
   "metadata": {},
   "outputs": [],
   "source": [
    "# First create a 1000 row X 100 col matrix for the test. Index is [0...999]\n",
    "\n",
    "col = [x for x in range(1000)]\n",
    "grid = {'a' + str(x): col[:] for x in range(100)}\n",
    "\n",
    "df_rc = rc.DataFrame(data=grid, columns=sorted(grid.keys()))\n",
    "df_pd = pd.DataFrame(data=grid, columns=sorted(grid.keys()))"
   ]
  },
  {
   "cell_type": "code",
   "execution_count": 51,
   "metadata": {},
   "outputs": [],
   "source": [
    "# get cell\n",
    "\n",
    "def rc_get_cell():\n",
    "    for c in df_rc.columns:\n",
    "        for r in df_rc.index:\n",
    "            x = df_rc.get(r, c)\n",
    "            \n",
    "def pd_get_cell():\n",
    "    for c in df_pd.columns:\n",
    "        for r in df_pd.index:\n",
    "            x = df_pd.at[r, c]"
   ]
  },
  {
   "cell_type": "code",
   "execution_count": 52,
   "metadata": {},
   "outputs": [
    {
     "name": "stdout",
     "output_type": "stream",
     "text": [
      "746 ms ± 45.2 ms per loop (mean ± std. dev. of 7 runs, 1 loop each)\n"
     ]
    }
   ],
   "source": [
    "res_rc = %timeit -o rc_get_cell()"
   ]
  },
  {
   "cell_type": "code",
   "execution_count": 53,
   "metadata": {},
   "outputs": [
    {
     "name": "stdout",
     "output_type": "stream",
     "text": [
      "1.03 s ± 32.1 ms per loop (mean ± std. dev. of 7 runs, 1 loop each)\n"
     ]
    }
   ],
   "source": [
    "res_pd = %timeit -o pd_get_cell()"
   ]
  },
  {
   "cell_type": "code",
   "execution_count": 54,
   "metadata": {},
   "outputs": [],
   "source": [
    "add_results('get cell')"
   ]
  },
  {
   "cell_type": "code",
   "execution_count": 55,
   "metadata": {},
   "outputs": [
    {
     "name": "stdout",
     "output_type": "stream",
     "text": [
      "index                   raccoon                 pandas                     ratio\n",
      "----------------------  ----------------------  --------------------  ----------\n",
      "version                 3.0.0                   0.25.2\n",
      "initialize empty        0.08051184000000262     4.216560099999981     0.0190942\n",
      "initialize with matrix  0.00011038290999999845  0.015230743999999276  0.00724737\n",
      "add rows one column     0.05175027999999884     16.65805690000002     0.00310662\n",
      "add matrix              0.009487011999999595    0.29534590000002936   0.0321217\n",
      "append                  0.07532331999999542     0.35071719999996276   0.214769\n",
      "get cell                0.6899712000000591      0.9961774999999307    0.692619\n"
     ]
    }
   ],
   "source": [
    "print(results)"
   ]
  },
  {
   "cell_type": "code",
   "execution_count": 56,
   "metadata": {},
   "outputs": [],
   "source": [
    "# get column all index\n",
    "\n",
    "def get_column_all_rc():\n",
    "    for c in df_rc.columns:\n",
    "        x = df_rc.get(columns=c)\n",
    "        \n",
    "def get_column_all_pd():\n",
    "    for c in df_pd.columns:\n",
    "        x = df_pd[c]"
   ]
  },
  {
   "cell_type": "code",
   "execution_count": 57,
   "metadata": {},
   "outputs": [
    {
     "name": "stdout",
     "output_type": "stream",
     "text": [
      "46.8 ms ± 3.97 ms per loop (mean ± std. dev. of 7 runs, 10 loops each)\n"
     ]
    }
   ],
   "source": [
    "res_rc = %timeit -o get_column_all_rc()"
   ]
  },
  {
   "cell_type": "code",
   "execution_count": 58,
   "metadata": {},
   "outputs": [
    {
     "name": "stdout",
     "output_type": "stream",
     "text": [
      "423 µs ± 24.1 µs per loop (mean ± std. dev. of 7 runs, 1000 loops each)\n"
     ]
    }
   ],
   "source": [
    "res_pd = %timeit -o get_column_all_pd()"
   ]
  },
  {
   "cell_type": "code",
   "execution_count": 59,
   "metadata": {},
   "outputs": [],
   "source": [
    "add_results('get column all index')"
   ]
  },
  {
   "cell_type": "code",
   "execution_count": 60,
   "metadata": {},
   "outputs": [
    {
     "name": "stdout",
     "output_type": "stream",
     "text": [
      "index                   raccoon                 pandas                         ratio\n",
      "----------------------  ----------------------  ----------------------  ------------\n",
      "version                 3.0.0                   0.25.2\n",
      "initialize empty        0.08051184000000262     4.216560099999981         0.0190942\n",
      "initialize with matrix  0.00011038290999999845  0.015230743999999276      0.00724737\n",
      "add rows one column     0.05175027999999884     16.65805690000002         0.00310662\n",
      "add matrix              0.009487011999999595    0.29534590000002936       0.0321217\n",
      "append                  0.07532331999999542     0.35071719999996276       0.214769\n",
      "get cell                0.6899712000000591      0.9961774999999307        0.692619\n",
      "get column all index    0.04172945999999911     0.00037849979999998593  110.25\n"
     ]
    }
   ],
   "source": [
    "print(results)"
   ]
  },
  {
   "cell_type": "code",
   "execution_count": 61,
   "metadata": {},
   "outputs": [],
   "source": [
    "# get subset of the index of the column\n",
    "\n",
    "def get_column_subset_rc():\n",
    "    for c in df_rc.columns:\n",
    "        for r in range(100):\n",
    "            rows = list(range(r*10, r*10 + 9))\n",
    "            x = df_rc.get(indexes=rows, columns=c)\n",
    "        \n",
    "def get_column_subset_pd():\n",
    "    for c in df_pd.columns:\n",
    "        for r in range(100):\n",
    "            rows = list(range(r*10, r*10 + 9))\n",
    "            x = df_pd.loc[rows, c]"
   ]
  },
  {
   "cell_type": "code",
   "execution_count": 62,
   "metadata": {},
   "outputs": [
    {
     "name": "stdout",
     "output_type": "stream",
     "text": [
      "637 ms ± 51.7 ms per loop (mean ± std. dev. of 7 runs, 1 loop each)\n"
     ]
    }
   ],
   "source": [
    "res_rc = %timeit -o get_column_subset_rc()"
   ]
  },
  {
   "cell_type": "code",
   "execution_count": 63,
   "metadata": {},
   "outputs": [
    {
     "name": "stdout",
     "output_type": "stream",
     "text": [
      "6.91 s ± 158 ms per loop (mean ± std. dev. of 7 runs, 1 loop each)\n"
     ]
    }
   ],
   "source": [
    "res_pd = %timeit -o get_column_subset_pd()"
   ]
  },
  {
   "cell_type": "code",
   "execution_count": 64,
   "metadata": {},
   "outputs": [],
   "source": [
    "add_results('get column subset index')"
   ]
  },
  {
   "cell_type": "code",
   "execution_count": 65,
   "metadata": {},
   "outputs": [
    {
     "name": "stdout",
     "output_type": "stream",
     "text": [
      "index                    raccoon                 pandas                         ratio\n",
      "-----------------------  ----------------------  ----------------------  ------------\n",
      "version                  3.0.0                   0.25.2\n",
      "initialize empty         0.08051184000000262     4.216560099999981         0.0190942\n",
      "initialize with matrix   0.00011038290999999845  0.015230743999999276      0.00724737\n",
      "add rows one column      0.05175027999999884     16.65805690000002         0.00310662\n",
      "add matrix               0.009487011999999595    0.29534590000002936       0.0321217\n",
      "append                   0.07532331999999542     0.35071719999996276       0.214769\n",
      "get cell                 0.6899712000000591      0.9961774999999307        0.692619\n",
      "get column all index     0.04172945999999911     0.00037849979999998593  110.25\n",
      "get column subset index  0.5775211000000127      6.717084499999942         0.0859779\n"
     ]
    }
   ],
   "source": [
    "print(results)"
   ]
  },
  {
   "cell_type": "code",
   "execution_count": 66,
   "metadata": {},
   "outputs": [],
   "source": [
    "# get index all columns\n",
    "\n",
    "def get_index_all_rc():\n",
    "    for i in df_rc.index:\n",
    "        x = df_rc.get(indexes=i)\n",
    "        \n",
    "def get_index_all_pd():\n",
    "    for i in df_pd.index:\n",
    "        x = df_pd.loc[i]"
   ]
  },
  {
   "cell_type": "code",
   "execution_count": 67,
   "metadata": {},
   "outputs": [
    {
     "name": "stdout",
     "output_type": "stream",
     "text": [
      "1.09 s ± 28.6 ms per loop (mean ± std. dev. of 7 runs, 1 loop each)\n"
     ]
    }
   ],
   "source": [
    "res_rc = %timeit -o get_index_all_rc()"
   ]
  },
  {
   "cell_type": "code",
   "execution_count": 68,
   "metadata": {},
   "outputs": [
    {
     "name": "stdout",
     "output_type": "stream",
     "text": [
      "240 ms ± 18.1 ms per loop (mean ± std. dev. of 7 runs, 1 loop each)\n"
     ]
    }
   ],
   "source": [
    "res_pd = %timeit -o get_index_all_pd()"
   ]
  },
  {
   "cell_type": "code",
   "execution_count": 69,
   "metadata": {},
   "outputs": [],
   "source": [
    "add_results('get index all columns')"
   ]
  },
  {
   "cell_type": "code",
   "execution_count": 70,
   "metadata": {},
   "outputs": [
    {
     "name": "stdout",
     "output_type": "stream",
     "text": [
      "index                    raccoon                 pandas                         ratio\n",
      "-----------------------  ----------------------  ----------------------  ------------\n",
      "version                  3.0.0                   0.25.2\n",
      "initialize empty         0.08051184000000262     4.216560099999981         0.0190942\n",
      "initialize with matrix   0.00011038290999999845  0.015230743999999276      0.00724737\n",
      "add rows one column      0.05175027999999884     16.65805690000002         0.00310662\n",
      "add matrix               0.009487011999999595    0.29534590000002936       0.0321217\n",
      "append                   0.07532331999999542     0.35071719999996276       0.214769\n",
      "get cell                 0.6899712000000591      0.9961774999999307        0.692619\n",
      "get column all index     0.04172945999999911     0.00037849979999998593  110.25\n",
      "get column subset index  0.5775211000000127      6.717084499999942         0.0859779\n",
      "get index all columns    1.0432272999998986      0.21270430000004126       4.90459\n"
     ]
    }
   ],
   "source": [
    "print(results)"
   ]
  },
  {
   "cell_type": "markdown",
   "metadata": {},
   "source": [
    "Set\n",
    "---"
   ]
  },
  {
   "cell_type": "code",
   "execution_count": 71,
   "metadata": {},
   "outputs": [],
   "source": [
    "# First create a 1000 row X 100 col matrix for the test. Index is [0...999]\n",
    "\n",
    "col = [x for x in range(1000)]\n",
    "grid = {'a' + str(x): col[:] for x in range(100)}\n",
    "\n",
    "df_rc = rc.DataFrame(data=grid, columns=sorted(grid.keys()))\n",
    "df_pd = pd.DataFrame(data=grid, columns=sorted(grid.keys()))"
   ]
  },
  {
   "cell_type": "code",
   "execution_count": 72,
   "metadata": {},
   "outputs": [],
   "source": [
    "# set cell\n",
    "\n",
    "def rc_set_cell():\n",
    "    for c in df_rc.columns:\n",
    "        for r in df_rc.index:\n",
    "            df_rc.set(r, c, 99)\n",
    "            \n",
    "def pd_set_cell():\n",
    "    for c in df_pd.columns:\n",
    "        for r in df_pd.index:\n",
    "            df_pd.at[r, c] = 99"
   ]
  },
  {
   "cell_type": "code",
   "execution_count": 73,
   "metadata": {},
   "outputs": [
    {
     "name": "stdout",
     "output_type": "stream",
     "text": [
      "593 ms ± 64.4 ms per loop (mean ± std. dev. of 7 runs, 1 loop each)\n"
     ]
    }
   ],
   "source": [
    "res_rc = %timeit -o rc_set_cell()"
   ]
  },
  {
   "cell_type": "code",
   "execution_count": 74,
   "metadata": {},
   "outputs": [
    {
     "name": "stdout",
     "output_type": "stream",
     "text": [
      "1.35 s ± 62.1 ms per loop (mean ± std. dev. of 7 runs, 1 loop each)\n"
     ]
    }
   ],
   "source": [
    "res_pd = %timeit -o pd_set_cell()"
   ]
  },
  {
   "cell_type": "code",
   "execution_count": 75,
   "metadata": {},
   "outputs": [],
   "source": [
    "add_results('set cell')"
   ]
  },
  {
   "cell_type": "code",
   "execution_count": 76,
   "metadata": {},
   "outputs": [
    {
     "name": "stdout",
     "output_type": "stream",
     "text": [
      "index                    raccoon                 pandas                         ratio\n",
      "-----------------------  ----------------------  ----------------------  ------------\n",
      "version                  3.0.0                   0.25.2\n",
      "initialize empty         0.08051184000000262     4.216560099999981         0.0190942\n",
      "initialize with matrix   0.00011038290999999845  0.015230743999999276      0.00724737\n",
      "add rows one column      0.05175027999999884     16.65805690000002         0.00310662\n",
      "add matrix               0.009487011999999595    0.29534590000002936       0.0321217\n",
      "append                   0.07532331999999542     0.35071719999996276       0.214769\n",
      "get cell                 0.6899712000000591      0.9961774999999307        0.692619\n",
      "get column all index     0.04172945999999911     0.00037849979999998593  110.25\n",
      "get column subset index  0.5775211000000127      6.717084499999942         0.0859779\n",
      "get index all columns    1.0432272999998986      0.21270430000004126       4.90459\n",
      "set cell                 0.5252357000000529      1.2596571000000267        0.416967\n"
     ]
    }
   ],
   "source": [
    "print(results)"
   ]
  },
  {
   "cell_type": "code",
   "execution_count": 77,
   "metadata": {},
   "outputs": [],
   "source": [
    "# set column all index\n",
    "\n",
    "def set_column_all_rc():\n",
    "    for c in df_rc.columns:\n",
    "        x = df_rc.set(columns=c, values=99)\n",
    "        \n",
    "def set_column_all_pd():\n",
    "    for c in df_pd.columns:\n",
    "        x = df_pd[c] = 99"
   ]
  },
  {
   "cell_type": "code",
   "execution_count": 78,
   "metadata": {},
   "outputs": [
    {
     "name": "stdout",
     "output_type": "stream",
     "text": [
      "6.03 ms ± 761 µs per loop (mean ± std. dev. of 7 runs, 100 loops each)\n"
     ]
    }
   ],
   "source": [
    "res_rc = %timeit -o set_column_all_rc()"
   ]
  },
  {
   "cell_type": "code",
   "execution_count": 79,
   "metadata": {},
   "outputs": [
    {
     "name": "stdout",
     "output_type": "stream",
     "text": [
      "16.6 ms ± 521 µs per loop (mean ± std. dev. of 7 runs, 100 loops each)\n"
     ]
    }
   ],
   "source": [
    "res_pd = %timeit -o set_column_all_pd()"
   ]
  },
  {
   "cell_type": "code",
   "execution_count": 80,
   "metadata": {},
   "outputs": [],
   "source": [
    "add_results('set column all index')"
   ]
  },
  {
   "cell_type": "code",
   "execution_count": 81,
   "metadata": {},
   "outputs": [
    {
     "name": "stdout",
     "output_type": "stream",
     "text": [
      "index                    raccoon                 pandas                         ratio\n",
      "-----------------------  ----------------------  ----------------------  ------------\n",
      "version                  3.0.0                   0.25.2\n",
      "initialize empty         0.08051184000000262     4.216560099999981         0.0190942\n",
      "initialize with matrix   0.00011038290999999845  0.015230743999999276      0.00724737\n",
      "add rows one column      0.05175027999999884     16.65805690000002         0.00310662\n",
      "add matrix               0.009487011999999595    0.29534590000002936       0.0321217\n",
      "append                   0.07532331999999542     0.35071719999996276       0.214769\n",
      "get cell                 0.6899712000000591      0.9961774999999307        0.692619\n",
      "get column all index     0.04172945999999911     0.00037849979999998593  110.25\n",
      "get column subset index  0.5775211000000127      6.717084499999942         0.0859779\n",
      "get index all columns    1.0432272999998986      0.21270430000004126       4.90459\n",
      "set cell                 0.5252357000000529      1.2596571000000267        0.416967\n",
      "set column all index     0.005190033000000085    0.015970144000000346      0.324983\n"
     ]
    }
   ],
   "source": [
    "print(results)"
   ]
  },
  {
   "cell_type": "code",
   "execution_count": 82,
   "metadata": {},
   "outputs": [],
   "source": [
    "# set subset of the index of the column\n",
    "\n",
    "def set_column_subset_rc():\n",
    "    for c in df_rc.columns:\n",
    "        for r in range(100):\n",
    "            rows = list(range(r*10, r*10 + 10))\n",
    "            x = df_rc.set(indexes=rows, columns=c, values=list(range(10)))\n",
    "        \n",
    "def set_column_subset_pd():\n",
    "    for c in df_pd.columns:\n",
    "        for r in range(100):\n",
    "            rows = list(range(r*10, r*10 + 10))\n",
    "            x = df_pd.loc[rows, c] = list(range(10))"
   ]
  },
  {
   "cell_type": "code",
   "execution_count": 83,
   "metadata": {},
   "outputs": [
    {
     "name": "stdout",
     "output_type": "stream",
     "text": [
      "413 ms ± 60.2 ms per loop (mean ± std. dev. of 7 runs, 1 loop each)\n"
     ]
    }
   ],
   "source": [
    "res_rc = %timeit -o set_column_subset_rc()"
   ]
  },
  {
   "cell_type": "code",
   "execution_count": 84,
   "metadata": {},
   "outputs": [
    {
     "name": "stdout",
     "output_type": "stream",
     "text": [
      "1min ± 660 ms per loop (mean ± std. dev. of 7 runs, 1 loop each)\n"
     ]
    }
   ],
   "source": [
    "res_pd = %timeit -o set_column_subset_pd()"
   ]
  },
  {
   "cell_type": "code",
   "execution_count": 85,
   "metadata": {},
   "outputs": [],
   "source": [
    "add_results('set column subset index')"
   ]
  },
  {
   "cell_type": "code",
   "execution_count": 86,
   "metadata": {},
   "outputs": [
    {
     "name": "stdout",
     "output_type": "stream",
     "text": [
      "index                    raccoon                 pandas                         ratio\n",
      "-----------------------  ----------------------  ----------------------  ------------\n",
      "version                  3.0.0                   0.25.2\n",
      "initialize empty         0.08051184000000262     4.216560099999981         0.0190942\n",
      "initialize with matrix   0.00011038290999999845  0.015230743999999276      0.00724737\n",
      "add rows one column      0.05175027999999884     16.65805690000002         0.00310662\n",
      "add matrix               0.009487011999999595    0.29534590000002936       0.0321217\n",
      "append                   0.07532331999999542     0.35071719999996276       0.214769\n",
      "get cell                 0.6899712000000591      0.9961774999999307        0.692619\n",
      "get column all index     0.04172945999999911     0.00037849979999998593  110.25\n",
      "get column subset index  0.5775211000000127      6.717084499999942         0.0859779\n",
      "get index all columns    1.0432272999998986      0.21270430000004126       4.90459\n",
      "set cell                 0.5252357000000529      1.2596571000000267        0.416967\n",
      "set column all index     0.005190033000000085    0.015970144000000346      0.324983\n",
      "set column subset index  0.33617850000007365     60.102627299999995        0.00559341\n"
     ]
    }
   ],
   "source": [
    "print(results)"
   ]
  },
  {
   "cell_type": "code",
   "execution_count": 87,
   "metadata": {},
   "outputs": [],
   "source": [
    "row = {x:x for x in grid.keys()}"
   ]
  },
  {
   "cell_type": "code",
   "execution_count": 88,
   "metadata": {},
   "outputs": [],
   "source": [
    "# set index all columns\n",
    "\n",
    "def set_index_all_rc():\n",
    "    for i in df_rc.index:\n",
    "        x = df_rc.set(indexes=i, values=row)\n",
    "        \n",
    "def set_index_all_pd():\n",
    "    for i in df_pd.index:\n",
    "        x = df_pd.loc[i] = row"
   ]
  },
  {
   "cell_type": "code",
   "execution_count": 89,
   "metadata": {},
   "outputs": [
    {
     "name": "stdout",
     "output_type": "stream",
     "text": [
      "65.5 ms ± 7.62 ms per loop (mean ± std. dev. of 7 runs, 10 loops each)\n"
     ]
    }
   ],
   "source": [
    "res_rc = %timeit -o set_index_all_rc()"
   ]
  },
  {
   "cell_type": "code",
   "execution_count": 90,
   "metadata": {},
   "outputs": [
    {
     "name": "stdout",
     "output_type": "stream",
     "text": [
      "1.36 s ± 63.7 ms per loop (mean ± std. dev. of 7 runs, 1 loop each)\n"
     ]
    }
   ],
   "source": [
    "res_pd = %timeit -o set_index_all_pd()"
   ]
  },
  {
   "cell_type": "code",
   "execution_count": 91,
   "metadata": {},
   "outputs": [],
   "source": [
    "add_results('set index all columns')"
   ]
  },
  {
   "cell_type": "code",
   "execution_count": 92,
   "metadata": {},
   "outputs": [
    {
     "name": "stdout",
     "output_type": "stream",
     "text": [
      "index                    raccoon                 pandas                         ratio\n",
      "-----------------------  ----------------------  ----------------------  ------------\n",
      "version                  3.0.0                   0.25.2\n",
      "initialize empty         0.08051184000000262     4.216560099999981         0.0190942\n",
      "initialize with matrix   0.00011038290999999845  0.015230743999999276      0.00724737\n",
      "add rows one column      0.05175027999999884     16.65805690000002         0.00310662\n",
      "add matrix               0.009487011999999595    0.29534590000002936       0.0321217\n",
      "append                   0.07532331999999542     0.35071719999996276       0.214769\n",
      "get cell                 0.6899712000000591      0.9961774999999307        0.692619\n",
      "get column all index     0.04172945999999911     0.00037849979999998593  110.25\n",
      "get column subset index  0.5775211000000127      6.717084499999942         0.0859779\n",
      "get index all columns    1.0432272999998986      0.21270430000004126       4.90459\n",
      "set cell                 0.5252357000000529      1.2596571000000267        0.416967\n",
      "set column all index     0.005190033000000085    0.015970144000000346      0.324983\n",
      "set column subset index  0.33617850000007365     60.102627299999995        0.00559341\n",
      "set index all columns    0.059601720000000566    1.2854537000000619        0.0463663\n"
     ]
    }
   ],
   "source": [
    "print(results)"
   ]
  },
  {
   "cell_type": "markdown",
   "metadata": {},
   "source": [
    "Sort\n",
    "-----"
   ]
  },
  {
   "cell_type": "code",
   "execution_count": 93,
   "metadata": {},
   "outputs": [],
   "source": [
    "# make a dataframe 1000x100 with index in reverse order\n",
    "\n",
    "rev = list(reversed(range(1000)))\n",
    "\n",
    "df_rc = rc.DataFrame(data=grid, index=rev)\n",
    "df_pd = pd.DataFrame(grid, index=rev)"
   ]
  },
  {
   "cell_type": "code",
   "execution_count": 94,
   "metadata": {},
   "outputs": [
    {
     "name": "stdout",
     "output_type": "stream",
     "text": [
      "12.1 ms ± 5.09 ms per loop (mean ± std. dev. of 7 runs, 100 loops each)\n"
     ]
    }
   ],
   "source": [
    "res_rc = %timeit -o df_rc.sort_index() "
   ]
  },
  {
   "cell_type": "code",
   "execution_count": 95,
   "metadata": {},
   "outputs": [
    {
     "name": "stdout",
     "output_type": "stream",
     "text": [
      "369 µs ± 16.2 µs per loop (mean ± std. dev. of 7 runs, 1000 loops each)\n"
     ]
    }
   ],
   "source": [
    "res_pd = %timeit -o df_pd.sort_index()"
   ]
  },
  {
   "cell_type": "code",
   "execution_count": 96,
   "metadata": {},
   "outputs": [],
   "source": [
    "add_results('sort index')"
   ]
  },
  {
   "cell_type": "code",
   "execution_count": 97,
   "metadata": {},
   "outputs": [
    {
     "name": "stdout",
     "output_type": "stream",
     "text": [
      "index                    raccoon                 pandas                         ratio\n",
      "-----------------------  ----------------------  ----------------------  ------------\n",
      "version                  3.0.0                   0.25.2\n",
      "initialize empty         0.08051184000000262     4.216560099999981         0.0190942\n",
      "initialize with matrix   0.00011038290999999845  0.015230743999999276      0.00724737\n",
      "add rows one column      0.05175027999999884     16.65805690000002         0.00310662\n",
      "add matrix               0.009487011999999595    0.29534590000002936       0.0321217\n",
      "append                   0.07532331999999542     0.35071719999996276       0.214769\n",
      "get cell                 0.6899712000000591      0.9961774999999307        0.692619\n",
      "get column all index     0.04172945999999911     0.00037849979999998593  110.25\n",
      "get column subset index  0.5775211000000127      6.717084499999942         0.0859779\n",
      "get index all columns    1.0432272999998986      0.21270430000004126       4.90459\n",
      "set cell                 0.5252357000000529      1.2596571000000267        0.416967\n",
      "set column all index     0.005190033000000085    0.015970144000000346      0.324983\n",
      "set column subset index  0.33617850000007365     60.102627299999995        0.00559341\n",
      "set index all columns    0.059601720000000566    1.2854537000000619        0.0463663\n",
      "sort index               0.006333351999999195    0.00035244710000006306   17.9697\n"
     ]
    }
   ],
   "source": [
    "print(results)"
   ]
  },
  {
   "cell_type": "markdown",
   "metadata": {},
   "source": [
    "Iterators\n",
    "---------"
   ]
  },
  {
   "cell_type": "code",
   "execution_count": 98,
   "metadata": {},
   "outputs": [],
   "source": [
    "# First create a 1000 row X 100 col matrix for the test. Index is [0...999]\n",
    "\n",
    "col = [x for x in range(1000)]\n",
    "grid = {'a' + str(x): col[:] for x in range(100)}\n",
    "\n",
    "df_rc = rc.DataFrame(data=grid, columns=sorted(grid.keys()))\n",
    "df_pd = pd.DataFrame(data=grid, columns=sorted(grid.keys()))"
   ]
  },
  {
   "cell_type": "code",
   "execution_count": 99,
   "metadata": {},
   "outputs": [],
   "source": [
    "# iterate over the rows\n",
    "\n",
    "def iter_rc():\n",
    "    for row in df_rc.iterrows():\n",
    "        x = row\n",
    "        \n",
    "def iter_pd():\n",
    "    for row in df_pd.itertuples():\n",
    "        x = row"
   ]
  },
  {
   "cell_type": "code",
   "execution_count": 100,
   "metadata": {},
   "outputs": [
    {
     "name": "stdout",
     "output_type": "stream",
     "text": [
      "The slowest run took 1823.08 times longer than the fastest. This could mean that an intermediate result is being cached.\n",
      "3.06 s ± 7.45 s per loop (mean ± std. dev. of 7 runs, 100 loops each)\n"
     ]
    }
   ],
   "source": [
    "res_rc = %timeit -o iter_rc() "
   ]
  },
  {
   "cell_type": "code",
   "execution_count": 101,
   "metadata": {},
   "outputs": [
    {
     "name": "stdout",
     "output_type": "stream",
     "text": [
      "27.3 ms ± 4.13 ms per loop (mean ± std. dev. of 7 runs, 10 loops each)\n"
     ]
    }
   ],
   "source": [
    "res_pd = %timeit -o iter_pd()"
   ]
  },
  {
   "cell_type": "code",
   "execution_count": 102,
   "metadata": {},
   "outputs": [],
   "source": [
    "add_results('iterate rows')"
   ]
  },
  {
   "cell_type": "code",
   "execution_count": 103,
   "metadata": {},
   "outputs": [
    {
     "name": "stdout",
     "output_type": "stream",
     "text": [
      "index                    raccoon                 pandas                         ratio\n",
      "-----------------------  ----------------------  ----------------------  ------------\n",
      "version                  3.0.0                   0.25.2\n",
      "initialize empty         0.08051184000000262     4.216560099999981         0.0190942\n",
      "initialize with matrix   0.00011038290999999845  0.015230743999999276      0.00724737\n",
      "add rows one column      0.05175027999999884     16.65805690000002         0.00310662\n",
      "add matrix               0.009487011999999595    0.29534590000002936       0.0321217\n",
      "append                   0.07532331999999542     0.35071719999996276       0.214769\n",
      "get cell                 0.6899712000000591      0.9961774999999307        0.692619\n",
      "get column all index     0.04172945999999911     0.00037849979999998593  110.25\n",
      "get column subset index  0.5775211000000127      6.717084499999942         0.0859779\n",
      "get index all columns    1.0432272999998986      0.21270430000004126       4.90459\n",
      "set cell                 0.5252357000000529      1.2596571000000267        0.416967\n",
      "set column all index     0.005190033000000085    0.015970144000000346      0.324983\n",
      "set column subset index  0.33617850000007365     60.102627299999995        0.00559341\n",
      "set index all columns    0.059601720000000566    1.2854537000000619        0.0463663\n",
      "sort index               0.006333351999999195    0.00035244710000006306   17.9697\n",
      "iterate rows             0.011689108999999007    0.02018434999999954       0.579117\n"
     ]
    }
   ],
   "source": [
    "print(results)"
   ]
  },
  {
   "cell_type": "markdown",
   "metadata": {},
   "source": [
    "Insert in the middle\n",
    "--------------------"
   ]
  },
  {
   "cell_type": "code",
   "execution_count": 104,
   "metadata": {},
   "outputs": [],
   "source": [
    "# First create a 500 row X 100 col matrix for the test. Index is [1, 3, 5, 7,...500] every other\n",
    "\n",
    "col = [x for x in range(1, 1000, 2)]\n",
    "grid = {'a' + str(x): col[:] for x in range(100)}\n",
    "\n",
    "df_rc = rc.DataFrame(data=grid, columns=sorted(grid.keys()), sort=True)\n",
    "df_pd = pd.DataFrame(data=grid, columns=sorted(grid.keys()))"
   ]
  },
  {
   "cell_type": "code",
   "execution_count": 105,
   "metadata": {},
   "outputs": [],
   "source": [
    "row = {x:x for x in grid.keys()}"
   ]
  },
  {
   "cell_type": "code",
   "execution_count": 106,
   "metadata": {},
   "outputs": [],
   "source": [
    "# set index all columns\n",
    "\n",
    "def insert_rows_rc():\n",
    "    for i in range(0, 999, 2):\n",
    "        x = df_rc.set(indexes=i, values=row)\n",
    "        \n",
    "def insert_rows_pd():\n",
    "    for i in range(0, 999, 2):\n",
    "        x = df_pd.loc[i] = row"
   ]
  },
  {
   "cell_type": "code",
   "execution_count": 107,
   "metadata": {},
   "outputs": [
    {
     "name": "stdout",
     "output_type": "stream",
     "text": [
      "19.3 ms ± 1.1 ms per loop (mean ± std. dev. of 7 runs, 10 loops each)\n"
     ]
    }
   ],
   "source": [
    "res_rc = %timeit -o insert_rows_rc() "
   ]
  },
  {
   "cell_type": "code",
   "execution_count": 108,
   "metadata": {},
   "outputs": [
    {
     "name": "stdout",
     "output_type": "stream",
     "text": [
      "300 ms ± 20.2 ms per loop (mean ± std. dev. of 7 runs, 1 loop each)\n"
     ]
    }
   ],
   "source": [
    "res_pd = %timeit -o insert_rows_pd()"
   ]
  },
  {
   "cell_type": "code",
   "execution_count": 109,
   "metadata": {},
   "outputs": [],
   "source": [
    "add_results('insert rows')"
   ]
  },
  {
   "cell_type": "code",
   "execution_count": 110,
   "metadata": {},
   "outputs": [
    {
     "name": "stdout",
     "output_type": "stream",
     "text": [
      "index                    raccoon                 pandas                         ratio\n",
      "-----------------------  ----------------------  ----------------------  ------------\n",
      "version                  3.0.0                   0.25.2\n",
      "initialize empty         0.08051184000000262     4.216560099999981         0.0190942\n",
      "initialize with matrix   0.00011038290999999845  0.015230743999999276      0.00724737\n",
      "add rows one column      0.05175027999999884     16.65805690000002         0.00310662\n",
      "add matrix               0.009487011999999595    0.29534590000002936       0.0321217\n",
      "append                   0.07532331999999542     0.35071719999996276       0.214769\n",
      "get cell                 0.6899712000000591      0.9961774999999307        0.692619\n",
      "get column all index     0.04172945999999911     0.00037849979999998593  110.25\n",
      "get column subset index  0.5775211000000127      6.717084499999942         0.0859779\n",
      "get index all columns    1.0432272999998986      0.21270430000004126       4.90459\n",
      "set cell                 0.5252357000000529      1.2596571000000267        0.416967\n",
      "set column all index     0.005190033000000085    0.015970144000000346      0.324983\n",
      "set column subset index  0.33617850000007365     60.102627299999995        0.00559341\n",
      "set index all columns    0.059601720000000566    1.2854537000000619        0.0463663\n",
      "sort index               0.006333351999999195    0.00035244710000006306   17.9697\n",
      "iterate rows             0.011689108999999007    0.02018434999999954       0.579117\n",
      "insert rows              0.017893760000015392    0.2766252000001259        0.0646859\n"
     ]
    }
   ],
   "source": [
    "print(results)"
   ]
  },
  {
   "cell_type": "markdown",
   "metadata": {},
   "source": [
    "Time Series Append\n",
    "------------------\n",
    "Simulate the recording of a stock on 1 minute intervals and appending to the DataFrame"
   ]
  },
  {
   "cell_type": "code",
   "execution_count": 113,
   "metadata": {},
   "outputs": [],
   "source": [
    "data_row = {'open': 100, 'high': 101, 'low': 99, 'close': 100.5, 'volume': 999}\n",
    "\n",
    "dates = pd.date_range('2010-01-01 09:30:00', periods=10000, freq='1min')\n",
    "\n",
    "def time_series_rc():\n",
    "    ts = rc.DataFrame(columns=['open', 'high', 'low', 'close', 'volume'], index_name='datetime', sort=True)\n",
    "    for date in dates:\n",
    "        ts.set_row(date, data_row)\n",
    "\n",
    "def time_series_pd():\n",
    "    ts = pd.DataFrame(columns=['open', 'high', 'low', 'close', 'volume'])\n",
    "    for date in dates:\n",
    "        ts.loc[date] = data_row"
   ]
  },
  {
   "cell_type": "code",
   "execution_count": 114,
   "metadata": {},
   "outputs": [
    {
     "name": "stdout",
     "output_type": "stream",
     "text": [
      "54.9 ms ± 1.24 ms per loop (mean ± std. dev. of 7 runs, 10 loops each)\n"
     ]
    }
   ],
   "source": [
    "res_rc = %timeit -o time_series_rc() "
   ]
  },
  {
   "cell_type": "code",
   "execution_count": 115,
   "metadata": {},
   "outputs": [
    {
     "name": "stdout",
     "output_type": "stream",
     "text": [
      "12.9 s ± 707 ms per loop (mean ± std. dev. of 7 runs, 1 loop each)\n"
     ]
    }
   ],
   "source": [
    "res_pd = %timeit -o time_series_pd()"
   ]
  },
  {
   "cell_type": "code",
   "execution_count": 116,
   "metadata": {},
   "outputs": [],
   "source": [
    "add_results('time series')"
   ]
  },
  {
   "cell_type": "code",
   "execution_count": 117,
   "metadata": {},
   "outputs": [
    {
     "name": "stdout",
     "output_type": "stream",
     "text": [
      "index                    raccoon                 pandas                         ratio\n",
      "-----------------------  ----------------------  ----------------------  ------------\n",
      "version                  3.0.0                   0.25.2\n",
      "initialize empty         0.08051184000000262     4.216560099999981         0.0190942\n",
      "initialize with matrix   0.00011038290999999845  0.015230743999999276      0.00724737\n",
      "add rows one column      0.05175027999999884     16.65805690000002         0.00310662\n",
      "add matrix               0.009487011999999595    0.29534590000002936       0.0321217\n",
      "append                   0.07532331999999542     0.35071719999996276       0.214769\n",
      "get cell                 0.6899712000000591      0.9961774999999307        0.692619\n",
      "get column all index     0.04172945999999911     0.00037849979999998593  110.25\n",
      "get column subset index  0.5775211000000127      6.717084499999942         0.0859779\n",
      "get index all columns    1.0432272999998986      0.21270430000004126       4.90459\n",
      "set cell                 0.5252357000000529      1.2596571000000267        0.416967\n",
      "set column all index     0.005190033000000085    0.015970144000000346      0.324983\n",
      "set column subset index  0.33617850000007365     60.102627299999995        0.00559341\n",
      "set index all columns    0.059601720000000566    1.2854537000000619        0.0463663\n",
      "sort index               0.006333351999999195    0.00035244710000006306   17.9697\n",
      "iterate rows             0.011689108999999007    0.02018434999999954       0.579117\n",
      "insert rows              0.017893760000015392    0.2766252000001259        0.0646859\n",
      "time series              0.0528872699999738      11.787703099999817        0.00448665\n"
     ]
    }
   ],
   "source": [
    "print(results)"
   ]
  },
  {
   "cell_type": "code",
   "execution_count": null,
   "metadata": {},
   "outputs": [],
   "source": []
  }
 ],
 "metadata": {
  "kernelspec": {
   "display_name": "Python [conda env:.conda-raccoon]",
   "language": "python",
   "name": "conda-env-.conda-raccoon-py"
  },
  "language_info": {
   "codemirror_mode": {
    "name": "ipython",
    "version": 3
   },
   "file_extension": ".py",
   "mimetype": "text/x-python",
   "name": "python",
   "nbconvert_exporter": "python",
   "pygments_lexer": "ipython3",
   "version": "3.7.4"
  }
 },
 "nbformat": 4,
 "nbformat_minor": 4
}
